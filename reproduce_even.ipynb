{
 "cells": [
  {
   "cell_type": "code",
   "execution_count": 22,
   "metadata": {
    "vscode": {
     "languageId": "r"
    }
   },
   "outputs": [
    {
     "name": "stderr",
     "output_type": "stream",
     "text": [
      "Installing package into ‘/home/preston/R/x86_64-pc-linux-gnu-library/4.4’\n",
      "(as ‘lib’ is unspecified)\n",
      "\n",
      "also installing the dependencies ‘fs’, ‘pkgbuild’, ‘rprojroot’, ‘diffobj’, ‘rematch2’, ‘stringi’, ‘brio’, ‘callr’, ‘desc’, ‘pkgload’, ‘praise’, ‘processx’, ‘ps’, ‘waldo’, ‘backports’, ‘ellipsis’, ‘purrr’, ‘stringr’, ‘tidyr’, ‘Matrix’, ‘testthat’, ‘colorspace’, ‘broom’, ‘dplyr’, ‘numDeriv’, ‘SparseM’, ‘MatrixModels’, ‘minqa’, ‘nloptr’, ‘RcppEigen’, ‘farver’, ‘labeling’, ‘munsell’, ‘RColorBrewer’, ‘viridisLite’, ‘carData’, ‘abind’, ‘pbkrtest’, ‘quantreg’, ‘lme4’, ‘scales’\n",
      "\n",
      "\n"
     ]
    }
   ],
   "source": [
    "install.packages(\"car\")"
   ]
  },
  {
   "cell_type": "code",
   "execution_count": 8,
   "metadata": {
    "vscode": {
     "languageId": "r"
    }
   },
   "outputs": [
    {
     "name": "stderr",
     "output_type": "stream",
     "text": [
      "Installing package into ‘/home/preston/R/x86_64-pc-linux-gnu-library/4.4’\n",
      "(as ‘lib’ is unspecified)\n",
      "\n"
     ]
    },
    {
     "name": "stderr",
     "output_type": "stream",
     "text": [
      "Installing package into ‘/home/preston/R/x86_64-pc-linux-gnu-library/4.4’\n",
      "(as ‘lib’ is unspecified)\n",
      "\n",
      "Installing package into ‘/home/preston/R/x86_64-pc-linux-gnu-library/4.4’\n",
      "(as ‘lib’ is unspecified)\n",
      "\n",
      "Installing package into ‘/home/preston/R/x86_64-pc-linux-gnu-library/4.4’\n",
      "(as ‘lib’ is unspecified)\n",
      "\n",
      "also installing the dependencies ‘Rcpp’, ‘miscTools’, ‘generics’, ‘rbibutils’, ‘bdsmatrix’, ‘collapse’, ‘lmtest’, ‘maxLik’, ‘Rdpack’\n",
      "\n",
      "\n"
     ]
    }
   ],
   "source": [
    "install.packages(\"haven\")\n",
    "install.packages(\"lfe\")  # For fixed effects regression\n",
    "install.packages(\"sandwich\")  # For robust standard errors\n",
    "install.packages(\"plm\")"
   ]
  },
  {
   "cell_type": "markdown",
   "metadata": {},
   "source": [
    "## Table 2"
   ]
  },
  {
   "cell_type": "markdown",
   "metadata": {},
   "source": [
    "Column 1"
   ]
  },
  {
   "cell_type": "code",
   "execution_count": 48,
   "metadata": {
    "vscode": {
     "languageId": "r"
    }
   },
   "outputs": [
    {
     "name": "stderr",
     "output_type": "stream",
     "text": [
      "Warning message in pt(abs(z$STATS[[lhs]]$tval), z$df, lower.tail = FALSE):\n",
      "“NaNs produced”\n",
      "Warning message in pt(abs(z$STATS[[lhs]]$rtval), z$df, lower.tail = FALSE):\n",
      "“NaNs produced”\n",
      "Warning message in chol.default(mat, pivot = TRUE, tol = tol):\n",
      "“the matrix is either rank-deficient or not positive definite”\n"
     ]
    },
    {
     "name": "stdout",
     "output_type": "stream",
     "text": [
      "Error in chol.default(mat[ok, ok]) : 'a' must have dims > 0\n"
     ]
    },
    {
     "name": "stderr",
     "output_type": "stream",
     "text": [
      "Warning message in summary.felm(model):\n",
      "“can't compute cluster F-test”\n"
     ]
    },
    {
     "data": {
      "text/plain": [
       "\n",
       "Call:\n",
       "   felm(formula = perform1 ~ experiment_treatment + year_week |      personid | 0 | (1 | personid), data = performance_num_or_log,      subset = (year_week != 201049 & (expgroup == 1 | expgroup ==          0)), weights = NULL) \n",
       "\n",
       "Residuals:\n",
       "    Min      1Q  Median      3Q     Max \n",
       "-4.2689 -0.4187  0.0424  0.4687  3.7219 \n",
       "\n",
       "Coefficients:\n",
       "                     Estimate Cluster s.e. t value Pr(>|t|)\n",
       "experiment_treatment   0.2324          NaN     NaN      NaN\n",
       "year_week201002        1.6294          NaN     NaN      NaN\n",
       "year_week201003        1.7695          NaN     NaN      NaN\n",
       "year_week201004        1.8743          NaN     NaN      NaN\n",
       "year_week201005        1.7777          NaN     NaN      NaN\n",
       "year_week201006        1.7660          NaN     NaN      NaN\n",
       "year_week201007        1.5339          NaN     NaN      NaN\n",
       "year_week201008        1.6779          NaN     NaN      NaN\n",
       "year_week201009        1.6264          NaN     NaN      NaN\n",
       "year_week201010        1.7321          NaN     NaN      NaN\n",
       "year_week201011        1.7396          NaN     NaN      NaN\n",
       "year_week201012        1.7885          NaN     NaN      NaN\n",
       "year_week201013        1.8622          NaN     NaN      NaN\n",
       "year_week201014        1.8062          NaN     NaN      NaN\n",
       "year_week201015        1.6381          NaN     NaN      NaN\n",
       "year_week201016        1.9614          NaN     NaN      NaN\n",
       "year_week201017        1.9898          NaN     NaN      NaN\n",
       "year_week201018        1.9587          NaN     NaN      NaN\n",
       "year_week201019        1.4789          NaN     NaN      NaN\n",
       "year_week201020        1.7270          NaN     NaN      NaN\n",
       "year_week201021        1.7996          NaN     NaN      NaN\n",
       "year_week201022        1.6941          NaN     NaN      NaN\n",
       "year_week201023        1.5795          NaN     NaN      NaN\n",
       "year_week201024        1.9938          NaN     NaN      NaN\n",
       "year_week201025        1.4580          NaN     NaN      NaN\n",
       "year_week201026        1.6703          NaN     NaN      NaN\n",
       "year_week201027        1.6975          NaN     NaN      NaN\n",
       "year_week201028        1.8768          NaN     NaN      NaN\n",
       "year_week201029        1.8839          NaN     NaN      NaN\n",
       "year_week201030        1.8536          NaN     NaN      NaN\n",
       "year_week201031        2.0738          NaN     NaN      NaN\n",
       "year_week201032        1.9160          NaN     NaN      NaN\n",
       "year_week201033        2.0074          NaN     NaN      NaN\n",
       "year_week201034        1.8346          NaN     NaN      NaN\n",
       "year_week201035        1.5987          NaN     NaN      NaN\n",
       "year_week201036        1.5662          NaN     NaN      NaN\n",
       "year_week201037        1.8662          NaN     NaN      NaN\n",
       "year_week201038        2.1009          NaN     NaN      NaN\n",
       "year_week201039        1.6441          NaN     NaN      NaN\n",
       "year_week201040        2.2062          NaN     NaN      NaN\n",
       "year_week201041        1.2817          NaN     NaN      NaN\n",
       "year_week201042        1.8867          NaN     NaN      NaN\n",
       "year_week201043        1.7926          NaN     NaN      NaN\n",
       "year_week201044        1.5023          NaN     NaN      NaN\n",
       "year_week201045        1.3114          NaN     NaN      NaN\n",
       "year_week201046        1.2859          NaN     NaN      NaN\n",
       "year_week201047        1.2754          NaN     NaN      NaN\n",
       "year_week201048        1.3560          NaN     NaN      NaN\n",
       "year_week201050        1.3572          NaN     NaN      NaN\n",
       "year_week201051        1.4819          NaN     NaN      NaN\n",
       "year_week201052        1.4158          NaN     NaN      NaN\n",
       "year_week201053        1.2779          NaN     NaN      NaN\n",
       "year_week201101        1.3172          NaN     NaN      NaN\n",
       "year_week201102        1.6748          NaN     NaN      NaN\n",
       "year_week201103        1.5348          NaN     NaN      NaN\n",
       "year_week201104        1.1723          NaN     NaN      NaN\n",
       "year_week201105        0.9624          NaN     NaN      NaN\n",
       "year_week201106        1.2292          NaN     NaN      NaN\n",
       "year_week201107        1.1947          NaN     NaN      NaN\n",
       "year_week201108        1.3560          NaN     NaN      NaN\n",
       "year_week201109        1.3821          NaN     NaN      NaN\n",
       "year_week201110        1.5204          NaN     NaN      NaN\n",
       "year_week201111        1.4726          NaN     NaN      NaN\n",
       "year_week201112        1.4865          NaN     NaN      NaN\n",
       "year_week201113        1.5949          NaN     NaN      NaN\n",
       "year_week201114        1.2450          NaN     NaN      NaN\n",
       "year_week201115        1.7086          NaN     NaN      NaN\n",
       "year_week201116        1.6497          NaN     NaN      NaN\n",
       "year_week201117        1.6975          NaN     NaN      NaN\n",
       "year_week201118        1.1929          NaN     NaN      NaN\n",
       "year_week201119        1.3821          NaN     NaN      NaN\n",
       "year_week201120        1.4630          NaN     NaN      NaN\n",
       "year_week201121        1.3126          NaN     NaN      NaN\n",
       "year_week201122        1.3419          NaN     NaN      NaN\n",
       "year_week201123        1.2409          NaN     NaN      NaN\n",
       "year_week201124        1.4153          NaN     NaN      NaN\n",
       "year_week201125        1.4466          NaN     NaN      NaN\n",
       "year_week201126        1.5484          NaN     NaN      NaN\n",
       "year_week201127        1.7430          NaN     NaN      NaN\n",
       "year_week201128        1.9501          NaN     NaN      NaN\n",
       "year_week201129        1.8485          NaN     NaN      NaN\n",
       "year_week201130        1.8365          NaN     NaN      NaN\n",
       "year_week201131        1.9440          NaN     NaN      NaN\n",
       "year_week201132        1.8973          NaN     NaN      NaN\n",
       "year_week201133        1.7979          NaN     NaN      NaN\n",
       "\n",
       "Residual standard error: 0.7826 on 17472 degrees of freedom\n",
       "  (705 observations deleted due to missingness)\n",
       "Multiple R-squared(full model): 0.4018   Adjusted R-squared: 0.3904 \n",
       "Multiple R-squared(proj model): 0.1227   Adjusted R-squared: 0.106 \n",
       "F-statistic(full model, *iid*):35.24 on 333 and 17472 DF, p-value: < 2.2e-16 \n",
       "F-statistic(proj model):   NaN on and DF, p-value: NA \n",
       "\n"
      ]
     },
     "metadata": {},
     "output_type": "display_data"
    },
    {
     "name": "stderr",
     "output_type": "stream",
     "text": [
      "Warning message in chol.default(mat, pivot = TRUE, tol = tol):\n",
      "“the matrix is either rank-deficient or not positive definite”\n"
     ]
    },
    {
     "name": "stdout",
     "output_type": "stream",
     "text": [
      "Error in chol.default(mat[ok, ok]) : 'a' must have dims > 0\n"
     ]
    },
    {
     "name": "stderr",
     "output_type": "stream",
     "text": [
      "Warning message in summary.felm(x):\n",
      "“can't compute cluster F-test”\n"
     ]
    },
    {
     "data": {
      "text/plain": [
       "\n",
       "z test of coefficients:\n",
       "\n",
       "                     Estimate Std. Error z value Pr(>|z|)\n",
       "experiment_treatment  0.23236        NaN     NaN      NaN\n",
       "year_week201002       1.62942        NaN     NaN      NaN\n",
       "year_week201003       1.76952        NaN     NaN      NaN\n",
       "year_week201004       1.87433        NaN     NaN      NaN\n",
       "year_week201005       1.77772        NaN     NaN      NaN\n",
       "year_week201006       1.76600        NaN     NaN      NaN\n",
       "year_week201007       1.53386        NaN     NaN      NaN\n",
       "year_week201008       1.67786        NaN     NaN      NaN\n",
       "year_week201009       1.62635        NaN     NaN      NaN\n",
       "year_week201010       1.73211        NaN     NaN      NaN\n",
       "year_week201011       1.73962        NaN     NaN      NaN\n",
       "year_week201012       1.78847        NaN     NaN      NaN\n",
       "year_week201013       1.86223        NaN     NaN      NaN\n",
       "year_week201014       1.80623        NaN     NaN      NaN\n",
       "year_week201015       1.63815        NaN     NaN      NaN\n",
       "year_week201016       1.96137        NaN     NaN      NaN\n",
       "year_week201017       1.98980        NaN     NaN      NaN\n",
       "year_week201018       1.95873        NaN     NaN      NaN\n",
       "year_week201019       1.47885        NaN     NaN      NaN\n",
       "year_week201020       1.72697        NaN     NaN      NaN\n",
       "year_week201021       1.79956        NaN     NaN      NaN\n",
       "year_week201022       1.69411        NaN     NaN      NaN\n",
       "year_week201023       1.57950        NaN     NaN      NaN\n",
       "year_week201024       1.99375        NaN     NaN      NaN\n",
       "year_week201025       1.45803        NaN     NaN      NaN\n",
       "year_week201026       1.67033        NaN     NaN      NaN\n",
       "year_week201027       1.69748        NaN     NaN      NaN\n",
       "year_week201028       1.87683        NaN     NaN      NaN\n",
       "year_week201029       1.88394        NaN     NaN      NaN\n",
       "year_week201030       1.85358        NaN     NaN      NaN\n",
       "year_week201031       2.07378        NaN     NaN      NaN\n",
       "year_week201032       1.91602        NaN     NaN      NaN\n",
       "year_week201033       2.00744        NaN     NaN      NaN\n",
       "year_week201034       1.83460        NaN     NaN      NaN\n",
       "year_week201035       1.59871        NaN     NaN      NaN\n",
       "year_week201036       1.56621        NaN     NaN      NaN\n",
       "year_week201037       1.86622        NaN     NaN      NaN\n",
       "year_week201038       2.10091        NaN     NaN      NaN\n",
       "year_week201039       1.64408        NaN     NaN      NaN\n",
       "year_week201040       2.20620        NaN     NaN      NaN\n",
       "year_week201041       1.28166        NaN     NaN      NaN\n",
       "year_week201042       1.88671        NaN     NaN      NaN\n",
       "year_week201043       1.79256        NaN     NaN      NaN\n",
       "year_week201044       1.50226        NaN     NaN      NaN\n",
       "year_week201045       1.31142        NaN     NaN      NaN\n",
       "year_week201046       1.28590        NaN     NaN      NaN\n",
       "year_week201047       1.27543        NaN     NaN      NaN\n",
       "year_week201048       1.35604        NaN     NaN      NaN\n",
       "year_week201050       1.35718        NaN     NaN      NaN\n",
       "year_week201051       1.48188        NaN     NaN      NaN\n",
       "year_week201052       1.41584        NaN     NaN      NaN\n",
       "year_week201053       1.27788        NaN     NaN      NaN\n",
       "year_week201101       1.31721        NaN     NaN      NaN\n",
       "year_week201102       1.67482        NaN     NaN      NaN\n",
       "year_week201103       1.53480        NaN     NaN      NaN\n",
       "year_week201104       1.17234        NaN     NaN      NaN\n",
       "year_week201105       0.96241        NaN     NaN      NaN\n",
       "year_week201106       1.22919        NaN     NaN      NaN\n",
       "year_week201107       1.19474        NaN     NaN      NaN\n",
       "year_week201108       1.35604        NaN     NaN      NaN\n",
       "year_week201109       1.38207        NaN     NaN      NaN\n",
       "year_week201110       1.52039        NaN     NaN      NaN\n",
       "year_week201111       1.47263        NaN     NaN      NaN\n",
       "year_week201112       1.48647        NaN     NaN      NaN\n",
       "year_week201113       1.59492        NaN     NaN      NaN\n",
       "year_week201114       1.24501        NaN     NaN      NaN\n",
       "year_week201115       1.70860        NaN     NaN      NaN\n",
       "year_week201116       1.64966        NaN     NaN      NaN\n",
       "year_week201117       1.69752        NaN     NaN      NaN\n",
       "year_week201118       1.19291        NaN     NaN      NaN\n",
       "year_week201119       1.38210        NaN     NaN      NaN\n",
       "year_week201120       1.46297        NaN     NaN      NaN\n",
       "year_week201121       1.31261        NaN     NaN      NaN\n",
       "year_week201122       1.34188        NaN     NaN      NaN\n",
       "year_week201123       1.24089        NaN     NaN      NaN\n",
       "year_week201124       1.41531        NaN     NaN      NaN\n",
       "year_week201125       1.44657        NaN     NaN      NaN\n",
       "year_week201126       1.54842        NaN     NaN      NaN\n",
       "year_week201127       1.74297        NaN     NaN      NaN\n",
       "year_week201128       1.95010        NaN     NaN      NaN\n",
       "year_week201129       1.84850        NaN     NaN      NaN\n",
       "year_week201130       1.83648        NaN     NaN      NaN\n",
       "year_week201131       1.94403        NaN     NaN      NaN\n",
       "year_week201132       1.89729        NaN     NaN      NaN\n",
       "year_week201133       1.79792        NaN     NaN      NaN\n"
      ]
     },
     "metadata": {},
     "output_type": "display_data"
    }
   ],
   "source": [
    "library(haven)\n",
    "library(lfe)\n",
    "library(lmtest)\n",
    "\n",
    "performance_during_exper <- haven::read_dta(\"data/performance_during_exper.dta\")\n",
    "\n",
    "# Create a categorical variable for year_week\n",
    "performance_during_exper$year_week <- as.factor(performance_during_exper$year_week)\n",
    "\n",
    "# Fit the regression model\n",
    "model <- felm(formula = perform1 ~ experiment_treatment + year_week |\n",
    "                personid | 0 | (1 | personid),\n",
    "              data = performance_num_or_log,\n",
    "              subset = (year_week != 201049 & (expgroup == 1 | expgroup == 0)),\n",
    "              weights = NULL)\n",
    "\n",
    "# Print the summary of the model\n",
    "summary(model)\n",
    "\n",
    "# Check for heteroskedasticity\n",
    "coeftest(model, vcov = vcovHC, type = \"HC1\")"
   ]
  },
  {
   "cell_type": "code",
   "execution_count": 49,
   "metadata": {
    "vscode": {
     "languageId": "r"
    }
   },
   "outputs": [
    {
     "data": {
      "text/html": [
       "<table class=\"dataframe\">\n",
       "<caption>A matrix: 10 × 10 of type dbl</caption>\n",
       "<thead>\n",
       "\t<tr><th></th><th scope=col>personid</th><th scope=col>expgroup</th><th scope=col>perform1</th><th scope=col>treatment</th><th scope=col>experiment_treatment</th><th scope=col>experiment_control</th><th scope=col>experiment_nantong</th><th scope=col>homethatweek</th><th scope=col>experiment_home</th><th scope=col>wage_month</th></tr>\n",
       "</thead>\n",
       "<tbody>\n",
       "\t<tr><th scope=row>personid</th><td> 1.624687e+09</td><td> 3.245444e+04</td><td>NA</td><td>-5.767060e+03</td><td>-2.397190e+03</td><td>-1.917044e+03</td><td>6197.55870675</td><td> 1.446933e+04</td><td> 4.065864e+03</td><td>-2.883755e+04</td></tr>\n",
       "\t<tr><th scope=row>expgroup</th><td> 3.245444e+04</td><td> 8.900378e-01</td><td>NA</td><td>-1.356709e-01</td><td>-5.631925e-02</td><td>-7.283009e-02</td><td>   0.14751445</td><td> 3.204519e-01</td><td> 9.784447e-02</td><td> 1.665750e-01</td></tr>\n",
       "\t<tr><th scope=row>perform1</th><td>           NA</td><td>           NA</td><td>NA</td><td>           NA</td><td>           NA</td><td>           NA</td><td>           NA</td><td>           NA</td><td>           NA</td><td>           NA</td></tr>\n",
       "\t<tr><th scope=row>treatment</th><td>-5.767060e+03</td><td>-1.356709e-01</td><td>NA</td><td> 8.230866e-02</td><td> 3.416769e-02</td><td>-2.637282e-03</td><td>  -0.02665412</td><td>-3.651839e-02</td><td> 2.937024e-03</td><td> 1.855303e-01</td></tr>\n",
       "\t<tr><th scope=row>experiment_treatment</th><td>-2.397190e+03</td><td>-5.631925e-02</td><td>NA</td><td> 3.416769e-02</td><td> 3.615616e-02</td><td>-1.094780e-03</td><td>  -0.01106457</td><td> 3.393198e-03</td><td> 2.027462e-02</td><td> 1.991644e+00</td></tr>\n",
       "\t<tr><th scope=row>experiment_control</th><td>-1.917044e+03</td><td>-7.283009e-02</td><td>NA</td><td>-2.637282e-03</td><td>-1.094780e-03</td><td> 2.829271e-02</td><td>  -0.00858304</td><td>-2.233794e-02</td><td>-9.242630e-03</td><td> 1.503873e+00</td></tr>\n",
       "\t<tr><th scope=row>experiment_nantong</th><td> 6.197559e+03</td><td> 1.475144e-01</td><td>NA</td><td>-2.665412e-02</td><td>-1.106457e-02</td><td>-8.583040e-03</td><td>   0.20778198</td><td> 6.570538e-02</td><td> 1.980552e-01</td><td> 1.530171e+01</td></tr>\n",
       "\t<tr><th scope=row>homethatweek</th><td> 1.446933e+04</td><td> 3.204519e-01</td><td>NA</td><td>-3.651839e-02</td><td> 3.393198e-03</td><td>-2.233794e-02</td><td>   0.06570538</td><td> 1.733208e-01</td><td> 7.307287e-02</td><td> 1.838632e+00</td></tr>\n",
       "\t<tr><th scope=row>experiment_home</th><td> 4.065864e+03</td><td> 9.784447e-02</td><td>NA</td><td> 2.937024e-03</td><td> 2.027462e-02</td><td>-9.242630e-03</td><td>   0.19805523</td><td> 7.307287e-02</td><td> 2.202630e-01</td><td> 1.704509e+01</td></tr>\n",
       "\t<tr><th scope=row>wage_month</th><td>-2.883755e+04</td><td> 1.665750e-01</td><td>NA</td><td> 1.855303e-01</td><td> 1.991644e+00</td><td> 1.503873e+00</td><td>  15.30170892</td><td> 1.838632e+00</td><td> 1.704509e+01</td><td> 2.144006e+03</td></tr>\n",
       "</tbody>\n",
       "</table>\n"
      ],
      "text/latex": [
       "A matrix: 10 × 10 of type dbl\n",
       "\\begin{tabular}{r|llllllllll}\n",
       "  & personid & expgroup & perform1 & treatment & experiment\\_treatment & experiment\\_control & experiment\\_nantong & homethatweek & experiment\\_home & wage\\_month\\\\\n",
       "\\hline\n",
       "\tpersonid &  1.624687e+09 &  3.245444e+04 & NA & -5.767060e+03 & -2.397190e+03 & -1.917044e+03 & 6197.55870675 &  1.446933e+04 &  4.065864e+03 & -2.883755e+04\\\\\n",
       "\texpgroup &  3.245444e+04 &  8.900378e-01 & NA & -1.356709e-01 & -5.631925e-02 & -7.283009e-02 &    0.14751445 &  3.204519e-01 &  9.784447e-02 &  1.665750e-01\\\\\n",
       "\tperform1 &            NA &            NA & NA &            NA &            NA &            NA &            NA &            NA &            NA &            NA\\\\\n",
       "\ttreatment & -5.767060e+03 & -1.356709e-01 & NA &  8.230866e-02 &  3.416769e-02 & -2.637282e-03 &   -0.02665412 & -3.651839e-02 &  2.937024e-03 &  1.855303e-01\\\\\n",
       "\texperiment\\_treatment & -2.397190e+03 & -5.631925e-02 & NA &  3.416769e-02 &  3.615616e-02 & -1.094780e-03 &   -0.01106457 &  3.393198e-03 &  2.027462e-02 &  1.991644e+00\\\\\n",
       "\texperiment\\_control & -1.917044e+03 & -7.283009e-02 & NA & -2.637282e-03 & -1.094780e-03 &  2.829271e-02 &   -0.00858304 & -2.233794e-02 & -9.242630e-03 &  1.503873e+00\\\\\n",
       "\texperiment\\_nantong &  6.197559e+03 &  1.475144e-01 & NA & -2.665412e-02 & -1.106457e-02 & -8.583040e-03 &    0.20778198 &  6.570538e-02 &  1.980552e-01 &  1.530171e+01\\\\\n",
       "\thomethatweek &  1.446933e+04 &  3.204519e-01 & NA & -3.651839e-02 &  3.393198e-03 & -2.233794e-02 &    0.06570538 &  1.733208e-01 &  7.307287e-02 &  1.838632e+00\\\\\n",
       "\texperiment\\_home &  4.065864e+03 &  9.784447e-02 & NA &  2.937024e-03 &  2.027462e-02 & -9.242630e-03 &    0.19805523 &  7.307287e-02 &  2.202630e-01 &  1.704509e+01\\\\\n",
       "\twage\\_month & -2.883755e+04 &  1.665750e-01 & NA &  1.855303e-01 &  1.991644e+00 &  1.503873e+00 &   15.30170892 &  1.838632e+00 &  1.704509e+01 &  2.144006e+03\\\\\n",
       "\\end{tabular}\n"
      ],
      "text/markdown": [
       "\n",
       "A matrix: 10 × 10 of type dbl\n",
       "\n",
       "| <!--/--> | personid | expgroup | perform1 | treatment | experiment_treatment | experiment_control | experiment_nantong | homethatweek | experiment_home | wage_month |\n",
       "|---|---|---|---|---|---|---|---|---|---|---|\n",
       "| personid |  1.624687e+09 |  3.245444e+04 | NA | -5.767060e+03 | -2.397190e+03 | -1.917044e+03 | 6197.55870675 |  1.446933e+04 |  4.065864e+03 | -2.883755e+04 |\n",
       "| expgroup |  3.245444e+04 |  8.900378e-01 | NA | -1.356709e-01 | -5.631925e-02 | -7.283009e-02 |    0.14751445 |  3.204519e-01 |  9.784447e-02 |  1.665750e-01 |\n",
       "| perform1 |            NA |            NA | NA |            NA |            NA |            NA |            NA |            NA |            NA |            NA |\n",
       "| treatment | -5.767060e+03 | -1.356709e-01 | NA |  8.230866e-02 |  3.416769e-02 | -2.637282e-03 |   -0.02665412 | -3.651839e-02 |  2.937024e-03 |  1.855303e-01 |\n",
       "| experiment_treatment | -2.397190e+03 | -5.631925e-02 | NA |  3.416769e-02 |  3.615616e-02 | -1.094780e-03 |   -0.01106457 |  3.393198e-03 |  2.027462e-02 |  1.991644e+00 |\n",
       "| experiment_control | -1.917044e+03 | -7.283009e-02 | NA | -2.637282e-03 | -1.094780e-03 |  2.829271e-02 |   -0.00858304 | -2.233794e-02 | -9.242630e-03 |  1.503873e+00 |\n",
       "| experiment_nantong |  6.197559e+03 |  1.475144e-01 | NA | -2.665412e-02 | -1.106457e-02 | -8.583040e-03 |    0.20778198 |  6.570538e-02 |  1.980552e-01 |  1.530171e+01 |\n",
       "| homethatweek |  1.446933e+04 |  3.204519e-01 | NA | -3.651839e-02 |  3.393198e-03 | -2.233794e-02 |    0.06570538 |  1.733208e-01 |  7.307287e-02 |  1.838632e+00 |\n",
       "| experiment_home |  4.065864e+03 |  9.784447e-02 | NA |  2.937024e-03 |  2.027462e-02 | -9.242630e-03 |    0.19805523 |  7.307287e-02 |  2.202630e-01 |  1.704509e+01 |\n",
       "| wage_month | -2.883755e+04 |  1.665750e-01 | NA |  1.855303e-01 |  1.991644e+00 |  1.503873e+00 |   15.30170892 |  1.838632e+00 |  1.704509e+01 |  2.144006e+03 |\n",
       "\n"
      ],
      "text/plain": [
       "                     personid      expgroup      perform1 treatment    \n",
       "personid              1.624687e+09  3.245444e+04 NA       -5.767060e+03\n",
       "expgroup              3.245444e+04  8.900378e-01 NA       -1.356709e-01\n",
       "perform1                        NA            NA NA                  NA\n",
       "treatment            -5.767060e+03 -1.356709e-01 NA        8.230866e-02\n",
       "experiment_treatment -2.397190e+03 -5.631925e-02 NA        3.416769e-02\n",
       "experiment_control   -1.917044e+03 -7.283009e-02 NA       -2.637282e-03\n",
       "experiment_nantong    6.197559e+03  1.475144e-01 NA       -2.665412e-02\n",
       "homethatweek          1.446933e+04  3.204519e-01 NA       -3.651839e-02\n",
       "experiment_home       4.065864e+03  9.784447e-02 NA        2.937024e-03\n",
       "wage_month           -2.883755e+04  1.665750e-01 NA        1.855303e-01\n",
       "                     experiment_treatment experiment_control experiment_nantong\n",
       "personid             -2.397190e+03        -1.917044e+03      6197.55870675     \n",
       "expgroup             -5.631925e-02        -7.283009e-02         0.14751445     \n",
       "perform1                        NA                   NA                 NA     \n",
       "treatment             3.416769e-02        -2.637282e-03        -0.02665412     \n",
       "experiment_treatment  3.615616e-02        -1.094780e-03        -0.01106457     \n",
       "experiment_control   -1.094780e-03         2.829271e-02        -0.00858304     \n",
       "experiment_nantong   -1.106457e-02        -8.583040e-03         0.20778198     \n",
       "homethatweek          3.393198e-03        -2.233794e-02         0.06570538     \n",
       "experiment_home       2.027462e-02        -9.242630e-03         0.19805523     \n",
       "wage_month            1.991644e+00         1.503873e+00        15.30170892     \n",
       "                     homethatweek  experiment_home wage_month   \n",
       "personid              1.446933e+04  4.065864e+03   -2.883755e+04\n",
       "expgroup              3.204519e-01  9.784447e-02    1.665750e-01\n",
       "perform1                        NA            NA              NA\n",
       "treatment            -3.651839e-02  2.937024e-03    1.855303e-01\n",
       "experiment_treatment  3.393198e-03  2.027462e-02    1.991644e+00\n",
       "experiment_control   -2.233794e-02 -9.242630e-03    1.503873e+00\n",
       "experiment_nantong    6.570538e-02  1.980552e-01    1.530171e+01\n",
       "homethatweek          1.733208e-01  7.307287e-02    1.838632e+00\n",
       "experiment_home       7.307287e-02  2.202630e-01    1.704509e+01\n",
       "wage_month            1.838632e+00  1.704509e+01    2.144006e+03"
      ]
     },
     "metadata": {},
     "output_type": "display_data"
    }
   ],
   "source": [
    "# num_or_log_cols <- names(performance_during_exper)[sapply(performance_during_exper, function(x) is.numeric(x) || is.logical(x))]\n",
    "performance_num_or_log <- performance_during_exper[, c(\"personid\", \"expgroup\", \"perform1\", \"treatment\", \"experiment_treatment\", \"experiment_control\", \"experiment_nantong\", \"homethatweek\", \"experiment_home\", \"wage_month\")]\n",
    "cov(performance_num_or_log)"
   ]
  },
  {
   "cell_type": "code",
   "execution_count": 18,
   "metadata": {
    "vscode": {
     "languageId": "r"
    }
   },
   "outputs": [
    {
     "data": {
      "text/html": [
       "<style>\n",
       ".list-inline {list-style: none; margin:0; padding: 0}\n",
       ".list-inline>li {display: inline-block}\n",
       ".list-inline>li:not(:last-child)::after {content: \"\\00b7\"; padding: 0 .5ex}\n",
       "</style>\n",
       "<ol class=list-inline><li>'personid'</li><li>'year_week'</li><li>'expgroup'</li><li>'perform1'</li><li>'phonecall'</li><li>'phonecallraw'</li><li>'treatment'</li><li>'experiment_treatment'</li><li>'experiment_control'</li><li>'experiment_nantong'</li><li>'homethatweek'</li><li>'experiment_home'</li><li>'logphonecall'</li><li>'logcallpersec'</li><li>'logcalllength'</li><li>'logcall_dayworked'</li><li>'logdaysworked'</li><li>'wage_month'</li><li>'experiment_treatment_commute120'</li><li>'date'</li></ol>\n"
      ],
      "text/latex": [
       "\\begin{enumerate*}\n",
       "\\item 'personid'\n",
       "\\item 'year\\_week'\n",
       "\\item 'expgroup'\n",
       "\\item 'perform1'\n",
       "\\item 'phonecall'\n",
       "\\item 'phonecallraw'\n",
       "\\item 'treatment'\n",
       "\\item 'experiment\\_treatment'\n",
       "\\item 'experiment\\_control'\n",
       "\\item 'experiment\\_nantong'\n",
       "\\item 'homethatweek'\n",
       "\\item 'experiment\\_home'\n",
       "\\item 'logphonecall'\n",
       "\\item 'logcallpersec'\n",
       "\\item 'logcalllength'\n",
       "\\item 'logcall\\_dayworked'\n",
       "\\item 'logdaysworked'\n",
       "\\item 'wage\\_month'\n",
       "\\item 'experiment\\_treatment\\_commute120'\n",
       "\\item 'date'\n",
       "\\end{enumerate*}\n"
      ],
      "text/markdown": [
       "1. 'personid'\n",
       "2. 'year_week'\n",
       "3. 'expgroup'\n",
       "4. 'perform1'\n",
       "5. 'phonecall'\n",
       "6. 'phonecallraw'\n",
       "7. 'treatment'\n",
       "8. 'experiment_treatment'\n",
       "9. 'experiment_control'\n",
       "10. 'experiment_nantong'\n",
       "11. 'homethatweek'\n",
       "12. 'experiment_home'\n",
       "13. 'logphonecall'\n",
       "14. 'logcallpersec'\n",
       "15. 'logcalllength'\n",
       "16. 'logcall_dayworked'\n",
       "17. 'logdaysworked'\n",
       "18. 'wage_month'\n",
       "19. 'experiment_treatment_commute120'\n",
       "20. 'date'\n",
       "\n",
       "\n"
      ],
      "text/plain": [
       " [1] \"personid\"                        \"year_week\"                      \n",
       " [3] \"expgroup\"                        \"perform1\"                       \n",
       " [5] \"phonecall\"                       \"phonecallraw\"                   \n",
       " [7] \"treatment\"                       \"experiment_treatment\"           \n",
       " [9] \"experiment_control\"              \"experiment_nantong\"             \n",
       "[11] \"homethatweek\"                    \"experiment_home\"                \n",
       "[13] \"logphonecall\"                    \"logcallpersec\"                  \n",
       "[15] \"logcalllength\"                   \"logcall_dayworked\"              \n",
       "[17] \"logdaysworked\"                   \"wage_month\"                     \n",
       "[19] \"experiment_treatment_commute120\" \"date\"                           "
      ]
     },
     "metadata": {},
     "output_type": "display_data"
    }
   ],
   "source": [
    "names(performance_during_exper)"
   ]
  },
  {
   "cell_type": "code",
   "execution_count": 20,
   "metadata": {
    "vscode": {
     "languageId": "r"
    }
   },
   "outputs": [
    {
     "data": {
      "text/html": [
       "4"
      ],
      "text/latex": [
       "4"
      ],
      "text/markdown": [
       "4"
      ],
      "text/plain": [
       "[1] 4"
      ]
     },
     "metadata": {},
     "output_type": "display_data"
    }
   ],
   "source": [
    "length(unique(performance_during_exper$expgroup))"
   ]
  }
 ],
 "metadata": {
  "kernelspec": {
   "display_name": "R",
   "language": "R",
   "name": "ir"
  },
  "language_info": {
   "codemirror_mode": "r",
   "file_extension": ".r",
   "mimetype": "text/x-r-source",
   "name": "R",
   "pygments_lexer": "r",
   "version": "4.4.0"
  }
 },
 "nbformat": 4,
 "nbformat_minor": 2
}
